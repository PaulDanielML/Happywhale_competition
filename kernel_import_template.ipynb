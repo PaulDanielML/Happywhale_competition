{
 "cells": [
  {
   "cell_type": "code",
   "execution_count": 2,
   "metadata": {},
   "outputs": [
    {
     "name": "stdout",
     "output_type": "stream",
     "text": [
      "/home/paul/projects/Happywhale_competition/data/cropped\n",
      "timm found and imported (version 0.4.12).\n",
      "wandb found and imported (version 0.12.10).\n"
     ]
    }
   ],
   "source": [
    "import os\n",
    "ON_KAGGLE_KERNEL = os.path.isdir(\"/kaggle/input\")\n",
    "start_dir = os.getcwd()\n",
    "\n",
    "if ON_KAGGLE_KERNEL:\n",
    "    os.chdir(\"/kaggle/input/utilities/\")\n",
    "else:\n",
    "    os.chdir(f\"{os.environ.get('PYTHONPATH')}/src/utils\")\n",
    "\n",
    "from common import load_structure, save_structure, load_train_file, INPUT_DATA_DIR, OUTPUT_DATA_DIR, SUB_DIR, set_seed, WANDB_KEY, WEIGHTS_DIR\n",
    "from data_proc import create_idvs_with_one_img_in_train_split, create_train_val_loaders, split_into_train_val\n",
    "from data_structures import WhaleDataset, TorchConfig, InferenceKNNModel\n",
    "os.chdir(start_dir)\n",
    "\n",
    "print(INPUT_DATA_DIR)\n",
    "\n",
    "import importlib\n",
    "import pandas as pd\n",
    "import torch\n",
    "import torch.nn as nn\n",
    "import numpy as np\n",
    "\n",
    "def _import_or_install(name: str):\n",
    "    try:\n",
    "        globals()[name] = importlib.import_module(name)\n",
    "        print(f\"{name} found and imported (version {globals()[name].__version__}).\")\n",
    "    except ModuleNotFoundError:\n",
    "        import subprocess\n",
    "        subprocess.run([\"pip\", \"install\", \"-q\", \"-U\", name])\n",
    "        globals()[name] = importlib.import_module(name)\n",
    "        print(f\"{name} Installed and imported (version {globals()[name].__version__}).\")\n",
    "\n",
    "\n",
    "_import_or_install(\"timm\")\n",
    "_import_or_install(\"wandb\")\n",
    "\n",
    "if ON_KAGGLE_KERNEL:\n",
    "    try:\n",
    "        wandb.login(key=WANDB_KEY)\n",
    "    except Exception as e:\n",
    "        print(f\"WandB login failed:\\n{e}\")\n",
    "else:\n",
    "    %reload_ext autoreload\n",
    "    %autoreload 2\n",
    "    from IPython.core.interactiveshell import InteractiveShell\n",
    "    InteractiveShell.ast_node_interactivity = 'all'\n",
    "\n",
    "def _load_prev_weights():\n",
    "    weight_file = sorted(os.listdir(WEIGHTS_DIR))[0]\n",
    "    return torch.load(str(WEIGHTS_DIR / weight_file), map_location=\"cpu\")"
   ]
  }
 ],
 "metadata": {
  "interpreter": {
   "hash": "3d5c075392d29132b662e04dfe399f321127320a5d404537ff18030005fe1d27"
  },
  "kernelspec": {
   "display_name": "Python 3.9.5 ('env': venv)",
   "language": "python",
   "name": "python3"
  },
  "language_info": {
   "codemirror_mode": {
    "name": "ipython",
    "version": 3
   },
   "file_extension": ".py",
   "mimetype": "text/x-python",
   "name": "python",
   "nbconvert_exporter": "python",
   "pygments_lexer": "ipython3",
   "version": "3.9.5"
  },
  "orig_nbformat": 4
 },
 "nbformat": 4,
 "nbformat_minor": 2
}
