{
 "cells": [
  {
   "cell_type": "code",
   "execution_count": null,
   "metadata": {},
   "outputs": [],
   "source": [
    "# try:\n",
    "#     from composer import trainer, algorithms, Trainer\n",
    "# except ModuleNotFoundError:\n",
    "#     !pip install mosaicml\n",
    "#     from composer import trainer, algorithms, Trainer"
   ]
  },
  {
   "cell_type": "code",
   "execution_count": 1,
   "metadata": {},
   "outputs": [
    {
     "name": "stdout",
     "output_type": "stream",
     "text": [
      "/home/paul/projects/Happywhale_competition/data\n"
     ]
    }
   ],
   "source": [
    "import os\n",
    "ON_KAGGLE_KERNEL = os.path.isdir(\"/kaggle/input\")\n",
    "start_dir = os.getcwd()\n",
    "\n",
    "if ON_KAGGLE_KERNEL:\n",
    "    os.chdir(\"/kaggle/input/utilities/\")\n",
    "else:\n",
    "    os.chdir(f\"{os.environ.get('PYTHONPATH')}/src/utils\")\n",
    "\n",
    "from common import load_structure, save_structure, load_train_file, INPUT_DATA_DIR, OUTPUT_DATA_DIR\n",
    "from data_splits import load_split, create_StratifiedKFold_split, encode_labels, create_idvs_with_one_img_in_train_split\n",
    "os.chdir(start_dir)\n",
    "\n",
    "print(INPUT_DATA_DIR)"
   ]
  }
 ],
 "metadata": {
  "interpreter": {
   "hash": "3d5c075392d29132b662e04dfe399f321127320a5d404537ff18030005fe1d27"
  },
  "kernelspec": {
   "display_name": "Python 3.9.5 ('env': venv)",
   "language": "python",
   "name": "python3"
  },
  "language_info": {
   "codemirror_mode": {
    "name": "ipython",
    "version": 3
   },
   "file_extension": ".py",
   "mimetype": "text/x-python",
   "name": "python",
   "nbconvert_exporter": "python",
   "pygments_lexer": "ipython3",
   "version": "3.9.5"
  },
  "orig_nbformat": 4
 },
 "nbformat": 4,
 "nbformat_minor": 2
}
