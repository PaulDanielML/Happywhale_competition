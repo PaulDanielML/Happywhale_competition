{
 "cells": [
  {
   "cell_type": "code",
   "execution_count": 3,
   "metadata": {},
   "outputs": [],
   "source": [
    "%reload_ext autoreload\n",
    "%autoreload 2\n",
    "\n",
    "from IPython.core.interactiveshell import InteractiveShell\n",
    "InteractiveShell.ast_node_interactivity = 'all'\n",
    "\n",
    "import pandas as pd\n",
    "from src import DATA_DIR, SUB_DIR\n"
   ]
  },
  {
   "cell_type": "code",
   "execution_count": 4,
   "metadata": {},
   "outputs": [],
   "source": [
    "df_train: pd.DataFrame = pd.read_csv(DATA_DIR / \"train.csv\")\n",
    "df_test: pd.DataFrame = pd.read_csv(DATA_DIR / \"sample_submission.csv\")"
   ]
  },
  {
   "cell_type": "markdown",
   "metadata": {},
   "source": [
    "### Baseline 1: Always predict new_individual (Public Score = 0.112)"
   ]
  },
  {
   "cell_type": "code",
   "execution_count": 8,
   "metadata": {},
   "outputs": [
    {
     "data": {
      "text/html": [
       "<div>\n",
       "<style scoped>\n",
       "    .dataframe tbody tr th:only-of-type {\n",
       "        vertical-align: middle;\n",
       "    }\n",
       "\n",
       "    .dataframe tbody tr th {\n",
       "        vertical-align: top;\n",
       "    }\n",
       "\n",
       "    .dataframe thead th {\n",
       "        text-align: right;\n",
       "    }\n",
       "</style>\n",
       "<table border=\"1\" class=\"dataframe\">\n",
       "  <thead>\n",
       "    <tr style=\"text-align: right;\">\n",
       "      <th></th>\n",
       "      <th>predictions</th>\n",
       "    </tr>\n",
       "    <tr>\n",
       "      <th>image</th>\n",
       "      <th></th>\n",
       "    </tr>\n",
       "  </thead>\n",
       "  <tbody>\n",
       "    <tr>\n",
       "      <th>000110707af0ba.jpg</th>\n",
       "      <td>new_individual</td>\n",
       "    </tr>\n",
       "    <tr>\n",
       "      <th>0006287ec424cb.jpg</th>\n",
       "      <td>new_individual</td>\n",
       "    </tr>\n",
       "    <tr>\n",
       "      <th>000809ecb2ccad.jpg</th>\n",
       "      <td>new_individual</td>\n",
       "    </tr>\n",
       "    <tr>\n",
       "      <th>00098d1376dab2.jpg</th>\n",
       "      <td>new_individual</td>\n",
       "    </tr>\n",
       "    <tr>\n",
       "      <th>000b8d89c738bd.jpg</th>\n",
       "      <td>new_individual</td>\n",
       "    </tr>\n",
       "  </tbody>\n",
       "</table>\n",
       "</div>"
      ],
      "text/plain": [
       "                       predictions\n",
       "image                             \n",
       "000110707af0ba.jpg  new_individual\n",
       "0006287ec424cb.jpg  new_individual\n",
       "000809ecb2ccad.jpg  new_individual\n",
       "00098d1376dab2.jpg  new_individual\n",
       "000b8d89c738bd.jpg  new_individual"
      ]
     },
     "execution_count": 8,
     "metadata": {},
     "output_type": "execute_result"
    }
   ],
   "source": [
    "df_bl_1 = df_test.copy(deep=True)\n",
    "df_bl_1[\"predictions\"] = \"new_individual\"\n",
    "df_bl_1.set_index(\"image\", inplace=True)\n",
    "df_bl_1.head()"
   ]
  },
  {
   "cell_type": "code",
   "execution_count": 9,
   "metadata": {},
   "outputs": [],
   "source": [
    "df_bl_1.to_csv(SUB_DIR / \"baseline_1.csv\")"
   ]
  },
  {
   "cell_type": "markdown",
   "metadata": {},
   "source": [
    "### Baseline 2: Always predict new_individual first, followed by the most common training individuals (Public Score = 0.113)"
   ]
  },
  {
   "cell_type": "code",
   "execution_count": 13,
   "metadata": {},
   "outputs": [
    {
     "data": {
      "text/html": [
       "<div>\n",
       "<style scoped>\n",
       "    .dataframe tbody tr th:only-of-type {\n",
       "        vertical-align: middle;\n",
       "    }\n",
       "\n",
       "    .dataframe tbody tr th {\n",
       "        vertical-align: top;\n",
       "    }\n",
       "\n",
       "    .dataframe thead th {\n",
       "        text-align: right;\n",
       "    }\n",
       "</style>\n",
       "<table border=\"1\" class=\"dataframe\">\n",
       "  <thead>\n",
       "    <tr style=\"text-align: right;\">\n",
       "      <th></th>\n",
       "      <th>predictions</th>\n",
       "    </tr>\n",
       "    <tr>\n",
       "      <th>image</th>\n",
       "      <th></th>\n",
       "    </tr>\n",
       "  </thead>\n",
       "  <tbody>\n",
       "    <tr>\n",
       "      <th>000110707af0ba.jpg</th>\n",
       "      <td>new_individual 37c7aba965a5 114207cab555 a6e32...</td>\n",
       "    </tr>\n",
       "    <tr>\n",
       "      <th>0006287ec424cb.jpg</th>\n",
       "      <td>new_individual 37c7aba965a5 114207cab555 a6e32...</td>\n",
       "    </tr>\n",
       "    <tr>\n",
       "      <th>000809ecb2ccad.jpg</th>\n",
       "      <td>new_individual 37c7aba965a5 114207cab555 a6e32...</td>\n",
       "    </tr>\n",
       "    <tr>\n",
       "      <th>00098d1376dab2.jpg</th>\n",
       "      <td>new_individual 37c7aba965a5 114207cab555 a6e32...</td>\n",
       "    </tr>\n",
       "    <tr>\n",
       "      <th>000b8d89c738bd.jpg</th>\n",
       "      <td>new_individual 37c7aba965a5 114207cab555 a6e32...</td>\n",
       "    </tr>\n",
       "  </tbody>\n",
       "</table>\n",
       "</div>"
      ],
      "text/plain": [
       "                                                          predictions\n",
       "image                                                                \n",
       "000110707af0ba.jpg  new_individual 37c7aba965a5 114207cab555 a6e32...\n",
       "0006287ec424cb.jpg  new_individual 37c7aba965a5 114207cab555 a6e32...\n",
       "000809ecb2ccad.jpg  new_individual 37c7aba965a5 114207cab555 a6e32...\n",
       "00098d1376dab2.jpg  new_individual 37c7aba965a5 114207cab555 a6e32...\n",
       "000b8d89c738bd.jpg  new_individual 37c7aba965a5 114207cab555 a6e32..."
      ]
     },
     "execution_count": 13,
     "metadata": {},
     "output_type": "execute_result"
    }
   ],
   "source": [
    "df_bl_2 = df_test.copy(deep=True)\n",
    "most_common = df_train[\"individual_id\"].value_counts().index[:4].tolist()\n",
    "pred = \" \".join([\"new_individual\"] + most_common)\n",
    "df_bl_2[\"predictions\"] = pred\n",
    "df_bl_2.set_index(\"image\", inplace=True)\n",
    "df_bl_2.head()"
   ]
  },
  {
   "cell_type": "code",
   "execution_count": 15,
   "metadata": {},
   "outputs": [],
   "source": [
    "df_bl_2.to_csv(SUB_DIR / \"baseline_2.csv\")"
   ]
  }
 ],
 "metadata": {
  "interpreter": {
   "hash": "3d5c075392d29132b662e04dfe399f321127320a5d404537ff18030005fe1d27"
  },
  "kernelspec": {
   "display_name": "Python 3.9.5 ('env': venv)",
   "language": "python",
   "name": "python3"
  },
  "language_info": {
   "codemirror_mode": {
    "name": "ipython",
    "version": 3
   },
   "file_extension": ".py",
   "mimetype": "text/x-python",
   "name": "python",
   "nbconvert_exporter": "python",
   "pygments_lexer": "ipython3",
   "version": "3.9.5"
  },
  "orig_nbformat": 4
 },
 "nbformat": 4,
 "nbformat_minor": 2
}
